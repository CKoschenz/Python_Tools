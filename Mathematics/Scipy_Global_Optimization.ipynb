{
 "cells": [
  {
   "cell_type": "code",
   "execution_count": 9,
   "metadata": {},
   "outputs": [],
   "source": [
    "import numpy as np\n",
    "import scipy as sc\n",
    "from scipy.optimize import rosen, shgo, basinhopping, differential_evolution, dual_annealing\n",
    "\n",
    "#print(np.__version__)\n",
    "#print(sc.__version__)"
   ]
  },
  {
   "cell_type": "markdown",
   "metadata": {},
   "source": [
    "### SHGO"
   ]
  },
  {
   "cell_type": "code",
   "execution_count": 7,
   "metadata": {},
   "outputs": [
    {
     "data": {
      "text/plain": [
       "(array([1., 1., 1., 1., 1.]), 2.920392374190081e-18)"
      ]
     },
     "execution_count": 7,
     "metadata": {},
     "output_type": "execute_result"
    }
   ],
   "source": [
    "bounds = [(0,2), (0, 2), (0, 2), (0, 2), (0, 2)]\n",
    "result = shgo(rosen, bounds)\n",
    "result.x, result.fun"
   ]
  },
  {
   "cell_type": "code",
   "execution_count": 9,
   "metadata": {},
   "outputs": [],
   "source": [
    "def eggholder(x):\n",
    "    return (-(x[1] + 47.0)* np.sin(np.sqrt(abs(x[0]/2.0 + (x[1] + 47.0))))- x[0] * np.sin(np.sqrt(abs(x[0] - (x[1] + 47.0)))))\n",
    "\n",
    "bounds = [(-512, 512), (-512, 512)]\n"
   ]
  },
  {
   "cell_type": "code",
   "execution_count": 10,
   "metadata": {},
   "outputs": [],
   "source": [
    "result = shgo(eggholder, bounds, n=30, sampling_method='sobol')"
   ]
  },
  {
   "cell_type": "code",
   "execution_count": 11,
   "metadata": {},
   "outputs": [
    {
     "data": {
      "text/plain": [
       "(array([512.        , 404.23180542]), -959.6406627208505)"
      ]
     },
     "execution_count": 11,
     "metadata": {},
     "output_type": "execute_result"
    }
   ],
   "source": [
    "result.x, result.fun"
   ]
  },
  {
   "cell_type": "code",
   "execution_count": 12,
   "metadata": {},
   "outputs": [
    {
     "data": {
      "text/plain": [
       "array([[ 512.        ,  404.23180542],\n",
       "       [ 283.07593402, -487.12566542],\n",
       "       [-294.66820039, -462.01964031],\n",
       "       [-105.87688985,  423.15324143],\n",
       "       [-242.97923629,  274.38032063],\n",
       "       [-506.25823477,    6.3131022 ],\n",
       "       [-408.71981195, -156.10117154],\n",
       "       [ 150.23210485,  301.31378508],\n",
       "       [  91.00922754, -391.28375925],\n",
       "       [ 202.8966344 , -269.38042147],\n",
       "       [ 361.66625957, -106.96490692],\n",
       "       [-219.40615102, -244.06022436],\n",
       "       [ 151.59603137, -100.61082677]])"
      ]
     },
     "execution_count": 12,
     "metadata": {},
     "output_type": "execute_result"
    }
   ],
   "source": [
    "result.xl"
   ]
  },
  {
   "cell_type": "code",
   "execution_count": 14,
   "metadata": {},
   "outputs": [
    {
     "data": {
      "text/plain": [
       "array([-959.64066272, -718.16745962, -704.80659592, -565.99778097,\n",
       "       -559.78685655, -557.36868733, -507.87385942, -493.9605115 ,\n",
       "       -426.48799655, -421.15571437, -419.31194957, -410.98477763,\n",
       "       -202.53912972])"
      ]
     },
     "execution_count": 14,
     "metadata": {},
     "output_type": "execute_result"
    }
   ],
   "source": [
    "result.funl"
   ]
  },
  {
   "cell_type": "markdown",
   "metadata": {},
   "source": [
    "### basinhopping"
   ]
  },
  {
   "cell_type": "code",
   "execution_count": 3,
   "metadata": {},
   "outputs": [
    {
     "data": {
      "text/plain": [
       "(array([0.99999967, 0.99999933, 0.99999867, 0.99999733]),\n",
       " 2.3415805813713422e-12)"
      ]
     },
     "execution_count": 3,
     "metadata": {},
     "output_type": "execute_result"
    }
   ],
   "source": [
    "minimizer_kwargs = {\"method\":\"L-BFGS-B\"}\n",
    "x0 = [0.0, 0.0, 0.0, 0.0]\n",
    "result = basinhopping(rosen, x0, minimizer_kwargs=minimizer_kwargs, niter=200)\n",
    "result.x, result.fun"
   ]
  },
  {
   "cell_type": "markdown",
   "metadata": {},
   "source": [
    "### Differential Evolution"
   ]
  },
  {
   "cell_type": "code",
   "execution_count": 5,
   "metadata": {},
   "outputs": [
    {
     "data": {
      "text/plain": [
       "(array([1., 1., 1., 1., 1.]), 0.0)"
      ]
     },
     "execution_count": 5,
     "metadata": {},
     "output_type": "execute_result"
    }
   ],
   "source": [
    "bounds = [(0,2), (0, 2), (0, 2), (0, 2), (0, 2)]\n",
    "result = differential_evolution(rosen, bounds)\n",
    "result.x, result.fun"
   ]
  },
  {
   "cell_type": "code",
   "execution_count": 6,
   "metadata": {},
   "outputs": [
    {
     "data": {
      "text/plain": [
       "(array([1., 1., 1., 1., 1.]), 0.0)"
      ]
     },
     "execution_count": 6,
     "metadata": {},
     "output_type": "execute_result"
    }
   ],
   "source": [
    "result = differential_evolution(rosen, bounds, updating='deferred', workers=2)\n",
    "result.x, result.fun"
   ]
  },
  {
   "cell_type": "code",
   "execution_count": 7,
   "metadata": {},
   "outputs": [],
   "source": [
    "def ackley(x):\n",
    "    arg1 = -0.2 * np.sqrt(0.5 * (x[0] ** 2 + x[1] ** 2))\n",
    "    arg2 = 0.5 * (np.cos(2. * np.pi * x[0]) + np.cos(2. * np.pi * x[1]))\n",
    "    return -20. * np.exp(arg1) - np.exp(arg2) + 20. + np.e"
   ]
  },
  {
   "cell_type": "code",
   "execution_count": 8,
   "metadata": {},
   "outputs": [
    {
     "data": {
      "text/plain": [
       "(array([0., 0.]), 4.440892098500626e-16)"
      ]
     },
     "execution_count": 8,
     "metadata": {},
     "output_type": "execute_result"
    }
   ],
   "source": [
    "bounds = [(-5, 5), (-5, 5)]\n",
    "result = differential_evolution(ackley, bounds)\n",
    "result.x, result.fun"
   ]
  },
  {
   "cell_type": "markdown",
   "metadata": {},
   "source": [
    "### Dual Annealing"
   ]
  },
  {
   "cell_type": "code",
   "execution_count": 10,
   "metadata": {},
   "outputs": [
    {
     "name": "stdout",
     "output_type": "stream",
     "text": [
      "global minimum: xmin = [-4.01437110e-09 -4.09453039e-09 -4.62324575e-09 -5.25566065e-09\n",
      " -5.21144691e-09 -3.54957375e-09 -3.60677746e-09 -3.02473237e-09\n",
      " -4.74921667e-09 -4.40927392e-09], f(xmin) = 0.000000\n"
     ]
    }
   ],
   "source": [
    "func = lambda x: np.sum(x*x - 10*np.cos(2*np.pi*x)) + 10*np.size(x)\n",
    "lw = [-5.12] * 10\n",
    "up = [5.12] * 10\n",
    "result = dual_annealing(func, bounds=list(zip(lw, up)), seed=1234)\n",
    "print(\"global minimum: xmin = {0}, f(xmin) = {1:.6f}\".format(result.x, result.fun))"
   ]
  },
  {
   "cell_type": "code",
   "execution_count": null,
   "metadata": {},
   "outputs": [],
   "source": []
  }
 ],
 "metadata": {
  "kernelspec": {
   "display_name": "Python 3",
   "language": "python",
   "name": "python3"
  },
  "language_info": {
   "codemirror_mode": {
    "name": "ipython",
    "version": 3
   },
   "file_extension": ".py",
   "mimetype": "text/x-python",
   "name": "python",
   "nbconvert_exporter": "python",
   "pygments_lexer": "ipython3",
   "version": "3.7.4"
  }
 },
 "nbformat": 4,
 "nbformat_minor": 2
}
