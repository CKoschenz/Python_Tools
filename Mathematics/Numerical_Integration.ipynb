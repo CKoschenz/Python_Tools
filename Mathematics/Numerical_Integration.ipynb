{
 "cells": [
  {
   "cell_type": "markdown",
   "metadata": {},
   "source": [
    "# Integration with Python"
   ]
  },
  {
   "cell_type": "markdown",
   "metadata": {},
   "source": [
    "## Sources\n",
    "### 1d\n",
    "### Multidimensional\n",
    "- iflow: https://gitlab.com/i-flow/i-flow\n",
    "- scipy nquad: https://docs.scipy.org/doc/scipy/reference/generated/scipy.integrate.nquad.html#scipy.integrate.nquad\n",
    "- cubepy https://pypi.org/project/cubepy/\n",
    "- Monte Carlo: https://towardsdatascience.com/monte-carlo-integration-in-python-over-univariate-and-multivariate-functions-12615dd252fa"
   ]
  },
  {
   "cell_type": "markdown",
   "metadata": {},
   "source": [
    "## Univariate Integration"
   ]
  },
  {
   "cell_type": "code",
   "execution_count": null,
   "metadata": {},
   "outputs": [],
   "source": [
    "- a univariate function is a function of with one variable \n",
    "- domain is therefore one-dimensional and the integration is from lower limit a to upper limit b."
   ]
  },
  {
   "cell_type": "markdown",
   "metadata": {},
   "source": [
    "## Multivariante Integration"
   ]
  },
  {
   "cell_type": "markdown",
   "metadata": {},
   "source": [
    "### Scipy nquad example"
   ]
  },
  {
   "cell_type": "code",
   "execution_count": 1,
   "metadata": {},
   "outputs": [
    {
     "data": {
      "text/plain": [
       "(1.5267454070738635, 2.943736000140233e-14, {'neval': 388962})"
      ]
     },
     "execution_count": 1,
     "metadata": {},
     "output_type": "execute_result"
    }
   ],
   "source": [
    "import numpy as np\n",
    "from scipy import integrate\n",
    "\n",
    "func = lambda x0,x1,x2,x3 : x0**2 + x1*x2 - x3**3 + np.sin(x0) + (1 if (x0-.2*x3-.5-.25*x1>0) else 0)\n",
    "\n",
    "def opts0(*args, **kwargs):\n",
    "\n",
    "    return {'points':[0.2*args[2] + 0.5 + 0.25*args[0]]}\n",
    "\n",
    "integrate.nquad(func, [[0,1], [-1,1], [.13,.8], [-.15,1]], opts=[opts0,{},{},{}], full_output=True)"
   ]
  },
  {
   "cell_type": "code",
   "execution_count": 2,
   "metadata": {},
   "outputs": [
    {
     "data": {
      "text/plain": [
       "(36.09991922677162, 1.8546948553452704e-07)"
      ]
     },
     "execution_count": 2,
     "metadata": {},
     "output_type": "execute_result"
    }
   ],
   "source": [
    "def func2(x0, x1, x2, t0, t1):\n",
    "\n",
    "    return x0*x2**2 + np.sin(x1) + 1 + (1 if x0+t1*x1-t0>0 else 0)\n",
    "\n",
    "def lim0(x1, x2, t0, t1):\n",
    "\n",
    "    return [t0*x1 + t1*x2 - 1, t0*x1 + t1*x2 + 1]\n",
    "\n",
    "def lim1(x2, t0, t1):\n",
    "\n",
    "    return [x2 + t0**2*t1**3 - 1, x2 + t0**2*t1**3 + 1]\n",
    "\n",
    "def lim2(t0, t1):\n",
    "\n",
    "    return [t0 + t1 - 1, t0 + t1 + 1]\n",
    "\n",
    "def opts0(x1, x2, t0, t1):\n",
    "\n",
    "    return {'points' : [t0 - t1*x1]}\n",
    "\n",
    "def opts1(x2, t0, t1):\n",
    "\n",
    "    return {}\n",
    "\n",
    "def opts2(t0, t1):\n",
    "\n",
    "    return {}\n",
    "\n",
    "integrate.nquad(func2, [lim0, lim1, lim2], args=(0,1),\n",
    "\n",
    "                opts=[opts0, opts1, opts2])"
   ]
  },
  {
   "cell_type": "markdown",
   "metadata": {},
   "source": [
    "## Monte Carlo Integration in Python over Univariate and Multivariate Functions\n",
    "see https://towardsdatascience.com/monte-carlo-integration-in-python-over-univariate-and-multivariate-functions-12615dd252fa\n",
    "\n",
    "- Monte Carlo integration is a basic Monte Carlo method for numerically estimating the integration of a function f(x)\n",
    "\n",
    "We want to solve the integration of $f(x)$ over a domain $D$.\n",
    "\n",
    "$$\n",
    "    I = \\int_{\\boldsymbol{x}\\in D} f(\\boldsymbol{x}) d\\boldsymbol{x}\n",
    "$$\n",
    "\n",
    "see https://en.wikipedia.org/wiki/Monte_Carlo_integration"
   ]
  },
  {
   "cell_type": "markdown",
   "metadata": {},
   "source": []
  }
 ],
 "metadata": {
  "kernelspec": {
   "display_name": "python_tools_env",
   "language": "python",
   "name": "python3"
  },
  "language_info": {
   "codemirror_mode": {
    "name": "ipython",
    "version": 3
   },
   "file_extension": ".py",
   "mimetype": "text/x-python",
   "name": "python",
   "nbconvert_exporter": "python",
   "pygments_lexer": "ipython3",
   "version": "3.11.4"
  },
  "orig_nbformat": 4
 },
 "nbformat": 4,
 "nbformat_minor": 2
}
