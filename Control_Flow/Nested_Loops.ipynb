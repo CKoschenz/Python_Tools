{
 "cells": [
  {
   "cell_type": "code",
   "execution_count": 3,
   "metadata": {
    "hide_input": false,
    "scrolled": true
   },
   "outputs": [
    {
     "data": {
      "text/html": [
       "\n",
       "<style>\n",
       ".output {\n",
       "    display: flex;\n",
       "    align-items: center;\n",
       "    text-align: center;\n",
       "}\n",
       "</style>\n"
      ],
      "text/plain": [
       "<IPython.core.display.HTML object>"
      ]
     },
     "metadata": {},
     "output_type": "display_data"
    },
    {
     "data": {
      "text/html": [
       "<style>.container { width:80% !important; }</style>"
      ],
      "text/plain": [
       "<IPython.core.display.HTML object>"
      ]
     },
     "metadata": {},
     "output_type": "display_data"
    }
   ],
   "source": [
    "import numpy as np\n",
    "from IPython.display import display, HTML\n",
    "\n",
    "#https://stackoverflow.com/questions/45671481/how-do-i-center-the-outputs-on-a-python-jupyter-notebook\n",
    "display(HTML(\"\"\"\n",
    "<style>\n",
    ".output {\n",
    "    display: flex;\n",
    "    align-items: center;\n",
    "    text-align: center;\n",
    "}\n",
    "</style>\n",
    "\"\"\"))\n",
    "display(HTML(\"<style>.container { width:80% !important; }</style>\"))"
   ]
  },
  {
   "cell_type": "markdown",
   "metadata": {},
   "source": [
    "# Nested Loops Test"
   ]
  },
  {
   "cell_type": "code",
   "execution_count": 21,
   "metadata": {
    "scrolled": true
   },
   "outputs": [
    {
     "name": "stdout",
     "output_type": "stream",
     "text": [
      "[(0.001, 0.001, 0.001), (0.001, 0.001, 1.5712963267948965), (0.001, 0.001, 3.141592653589793), (0.001, 1.5712963267948965, 0.001), (0.001, 1.5712963267948965, 1.5712963267948965), (0.001, 3.141592653589793, 0.001), (1.5712963267948965, 0.001, 0.001), (1.5712963267948965, 0.001, 1.5712963267948965), (1.5712963267948965, 1.5712963267948965, 0.001), (3.141592653589793, 0.001, 0.001)]\n"
     ]
    }
   ],
   "source": [
    "N_step = 3\n",
    "N_start = 0.001\n",
    "kx_array = np.linspace(N_start, np.pi,N_step,endpoint=True)\n",
    "ky_array = np.linspace(N_start, np.pi,N_step,endpoint=True)\n",
    "kz_array = np.linspace(N_start, np.pi,N_step,endpoint=True)\n",
    "K_arr=[]\n",
    "\n",
    "for kx_counter, kx in enumerate(kx_array):\n",
    "    for ky_counter, ky in enumerate(ky_array):\n",
    "        if kx + ky > 1.5*np.pi : break\n",
    "        \n",
    "        for kz_counter, kz in enumerate(kz_array):\n",
    "            if kx + ky + kz > 1.5*np.pi : break\n",
    "            K_arr.append((kx,ky,kz))\n",
    "print(K_arr)"
   ]
  },
  {
   "cell_type": "code",
   "execution_count": 14,
   "metadata": {},
   "outputs": [],
   "source": [
    "N_step = 3\n",
    "N_start = 0\n",
    "N_end = 2\n",
    "kx_array = np.linspace(N_start, N_end, N_step, endpoint=True)\n",
    "ky_array = np.linspace(N_start, N_end, N_step, endpoint=True)\n",
    "kz_array = np.linspace(N_start, N_end, N_step, endpoint=True)"
   ]
  },
  {
   "cell_type": "code",
   "execution_count": 15,
   "metadata": {},
   "outputs": [
    {
     "name": "stdout",
     "output_type": "stream",
     "text": [
      "kx_ct: 0 ky_ct: 0 kz_ct: 0\n",
      "kx_ct: 0 ky_ct: 0 kz_ct: 1\n",
      "kx_ct: 0 ky_ct: 0 kz_ct: 2\n",
      "kx_ct: 0 ky_ct: 1 kz_ct: 0\n",
      "kx_ct: 0 ky_ct: 1 kz_ct: 1\n",
      "kx_ct: 0 ky_ct: 1 kz_ct: 2\n",
      "kx_ct: 0 ky_ct: 2 kz_ct: 0\n",
      "kx_ct: 0 ky_ct: 2 kz_ct: 1\n",
      "kx_ct: 0 ky_ct: 2 kz_ct: 2\n",
      "kx_ct: 1 ky_ct: 0 kz_ct: 0\n",
      "kx_ct: 1 ky_ct: 0 kz_ct: 1\n",
      "kx_ct: 1 ky_ct: 0 kz_ct: 2\n",
      "kx_ct: 1 ky_ct: 1 kz_ct: 0\n",
      "kx_ct: 1 ky_ct: 1 kz_ct: 1\n",
      "kx_ct: 1 ky_ct: 1 kz_ct: 2\n",
      "kx_ct: 1 ky_ct: 2 kz_ct: 0\n",
      "kx_ct: 1 ky_ct: 2 kz_ct: 1\n",
      "kx_ct: 1 ky_ct: 2 kz_ct: 2\n",
      "kx_ct: 2 ky_ct: 0 kz_ct: 0\n",
      "kx_ct: 2 ky_ct: 0 kz_ct: 1\n",
      "kx_ct: 2 ky_ct: 0 kz_ct: 2\n",
      "kx_ct: 2 ky_ct: 1 kz_ct: 0\n",
      "kx_ct: 2 ky_ct: 1 kz_ct: 1\n",
      "kx_ct: 2 ky_ct: 1 kz_ct: 2\n",
      "kx_ct: 2 ky_ct: 2 kz_ct: 0\n",
      "kx_ct: 2 ky_ct: 2 kz_ct: 1\n",
      "kx_ct: 2 ky_ct: 2 kz_ct: 2\n"
     ]
    }
   ],
   "source": [
    "for kx_counter,kx in enumerate(kx_array):\n",
    "    for ky_counter,ky in enumerate(ky_array):\n",
    "        for kz_counter,kz in enumerate(kz_array):           \n",
    "            print(\"kx_ct: \" + str(kx_counter) + \" ky_ct: \" + str(ky_counter) + \" kz_ct: \" + str(kz_counter))"
   ]
  },
  {
   "cell_type": "code",
   "execution_count": 20,
   "metadata": {
    "scrolled": false
   },
   "outputs": [
    {
     "name": "stdout",
     "output_type": "stream",
     "text": [
      "kx_ct: 0 ky_ct: 0 kz_ct: 0\n",
      "kx_ct: 0 ky_ct: 0 kz_ct: 1\n",
      "kx_ct: 0 ky_ct: 0 kz_ct: 2\n",
      "kx_ct: 0 ky_ct: 1 kz_ct: 0\n",
      "kx_ct: 0 ky_ct: 1 kz_ct: 1\n",
      "kx_ct: 0 ky_ct: 2 kz_ct: 0\n",
      "kx_ct: 1 ky_ct: 0 kz_ct: 0\n",
      "kx_ct: 1 ky_ct: 0 kz_ct: 1\n",
      "kx_ct: 1 ky_ct: 1 kz_ct: 0\n",
      "kx_ct: 2 ky_ct: 0 kz_ct: 0\n"
     ]
    }
   ],
   "source": [
    "N_step = 3\n",
    "N_start = 0\n",
    "N_end = 2\n",
    "kx_array = np.linspace(N_start, N_end, N_step, endpoint=True)\n",
    "ky_array = np.linspace(N_start, N_end, N_step, endpoint=True)\n",
    "kz_array = np.linspace(N_start, N_end, N_step, endpoint=True)\n",
    "\n",
    "for kx_counter,kx in enumerate(kx_array):\n",
    "    for ky_counter,ky in enumerate(ky_array):\n",
    "        if kx_counter + ky_counter > 2:\n",
    "            break\n",
    "        for kz_counter,kz in enumerate(kz_array):\n",
    "            if kx_counter + ky_counter + kz_counter > 2:\n",
    "                break\n",
    "            \n",
    "            print(\"kx_ct: \" + str(kx_counter) + \" ky_ct: \" + str(ky_counter) + \" kz_ct: \" + str(kz_counter))"
   ]
  },
  {
   "cell_type": "code",
   "execution_count": null,
   "metadata": {},
   "outputs": [],
   "source": []
  }
 ],
 "metadata": {
  "celltoolbar": "Slideshow",
  "kernelspec": {
   "display_name": "Python 3",
   "language": "python",
   "name": "python3"
  },
  "language_info": {
   "codemirror_mode": {
    "name": "ipython",
    "version": 3
   },
   "file_extension": ".py",
   "mimetype": "text/x-python",
   "name": "python",
   "nbconvert_exporter": "python",
   "pygments_lexer": "ipython3",
   "version": "3.7.4"
  },
  "toc": {
   "base_numbering": 1,
   "nav_menu": {},
   "number_sections": true,
   "sideBar": true,
   "skip_h1_title": false,
   "title_cell": "Table of Contents",
   "title_sidebar": "Contents",
   "toc_cell": false,
   "toc_position": {},
   "toc_section_display": true,
   "toc_window_display": false
  }
 },
 "nbformat": 4,
 "nbformat_minor": 2
}
